{
 "cells": [
  {
   "cell_type": "code",
   "execution_count": null,
   "id": "8c4bd4b5-22ac-42c8-abfd-7188db1d5db4",
   "metadata": {
    "vscode": {
     "languageId": "python"
    }
   },
   "outputs": [],
   "source": [
    "from sage.all import *"
   ]
  },
  {
   "cell_type": "code",
   "execution_count": null,
   "id": "b07d0543",
   "metadata": {
    "vscode": {
     "languageId": "python"
    }
   },
   "outputs": [],
   "source": [
    "# variable declarations\n",
    "x = var('x')\n",
    "a0,a1,a2,a3 = var('a0 a1 a2 a3')\n",
    "g,beta,Tw,T0,nu = var('g beta Tw T0 nu')\n",
    "delta = var('delta')"
   ]
  },
  {
   "cell_type": "code",
   "execution_count": null,
   "id": "19be38d6-49b7-457f-93aa-a51b45c28b62",
   "metadata": {},
   "outputs": [],
   "source": [
    "v = a0+a1*x+a2*x**2+a3*x**3\n",
    "v"
   ]
  },
  {
   "cell_type": "code",
   "execution_count": null,
   "id": "aaff1f7b-fe1d-46c1-b808-63c962c5066d",
   "metadata": {},
   "outputs": [],
   "source": [
    "bcs = [\n",
    "    v.subs(x=0) == 0,\n",
    "    diff(v,x,2).subs(x=0) == -g*beta*(Tw-T0)/nu ,\n",
    "    v.subs(x=delta) == 0,\n",
    "    diff(v,x).subs(x=delta)==0\n",
    "]"
   ]
  },
  {
   "cell_type": "code",
   "execution_count": null,
   "id": "87124b63-f982-42ff-ad93-94445e406212",
   "metadata": {},
   "outputs": [],
   "source": [
    "sol = solve(bcs,a0,a1,a2,a3,solution_dict=True)[0]\n",
    "sol"
   ]
  },
  {
   "cell_type": "code",
   "execution_count": null,
   "id": "e85731f9-37c1-47e6-b169-8b29429870a8",
   "metadata": {},
   "outputs": [],
   "source": [
    "vSol = v.subs(sol)\n",
    "vSol"
   ]
  },
  {
   "cell_type": "code",
   "execution_count": null,
   "id": "1a16a663-1097-41bf-aa91-92a725c3ff4a",
   "metadata": {},
   "outputs": [],
   "source": [
    "v0 = g*beta*(Tw-T0)*delta**2/(4*nu)"
   ]
  },
  {
   "cell_type": "code",
   "execution_count": null,
   "id": "20dad37e-4eac-4860-ae12-cafe02fd24dc",
   "metadata": {},
   "outputs": [],
   "source": [
    "V = (vSol/v0).simplify_full()\n",
    "V"
   ]
  },
  {
   "cell_type": "code",
   "execution_count": null,
   "id": "97225270-7555-4038-8277-e9238aa7e35b",
   "metadata": {},
   "outputs": [],
   "source": [
    "# determine the maximum velocity\n",
    "solve(diff(V,x)==0,x)"
   ]
  },
  {
   "cell_type": "code",
   "execution_count": null,
   "id": "8a117d27-7b16-4820-b323-da39591ac727",
   "metadata": {},
   "outputs": [],
   "source": [
    "diff(V,x,2).subs(x=delta/3)"
   ]
  },
  {
   "cell_type": "code",
   "execution_count": null,
   "id": "fc4ccb43-cb33-4977-a2a5-ec5dbedb00e0",
   "metadata": {},
   "outputs": [],
   "source": [
    "diff(V,x,2).subs(x=delta)"
   ]
  },
  {
   "cell_type": "code",
   "execution_count": null,
   "id": "bfc46e53-d863-49c4-b31b-7c70b770bf95",
   "metadata": {},
   "outputs": [],
   "source": [
    "VMax = V.subs(x=delta/3)\n",
    "VMax"
   ]
  },
  {
   "cell_type": "markdown",
   "id": "55c8f803-228b-4790-95e5-f830ec3c3cc9",
   "metadata": {},
   "source": [
    "Temperature Distribution"
   ]
  },
  {
   "cell_type": "code",
   "execution_count": null,
   "id": "4ff374c4-2139-4522-9b98-fe6bdb225fa6",
   "metadata": {},
   "outputs": [],
   "source": [
    "b0,b1,b2 = var('b0 b1 b2')\n",
    "T = b0 + b1*x + b2*x**2"
   ]
  },
  {
   "cell_type": "code",
   "execution_count": null,
   "id": "e94dbe92-5e93-43c4-ace1-10b0bc7dd72f",
   "metadata": {},
   "outputs": [],
   "source": [
    "sol = solve([T.subs(x=0)==Tw, T.subs(x=delta)==T0,diff(T,x).subs(x=delta)==0],b0,b1,b2,solution_dict=True)\n",
    "TSol = T.subs(sol)"
   ]
  },
  {
   "cell_type": "code",
   "execution_count": null,
   "id": "afc216e1-ab2e-416d-976b-b30b874269b4",
   "metadata": {},
   "outputs": [],
   "source": [
    "TSol"
   ]
  },
  {
   "cell_type": "code",
   "execution_count": null,
   "id": "7ea05937-e842-4eb3-b6bf-e2081c7e0d62",
   "metadata": {},
   "outputs": [],
   "source": [
    "theta = (TSol-T0)/(Tw-T0)\n",
    "theta = theta.simplify_full()"
   ]
  },
  {
   "cell_type": "code",
   "execution_count": null,
   "id": "01895191-3966-498a-a38a-87078dd602a8",
   "metadata": {},
   "outputs": [],
   "source": [
    "v = V*v0"
   ]
  },
  {
   "cell_type": "code",
   "execution_count": null,
   "id": "276c29df-efa4-4069-9779-46178de23616",
   "metadata": {},
   "outputs": [],
   "source": []
  },
  {
   "cell_type": "code",
   "execution_count": null,
   "id": "8193cf18-3eee-4c4f-ac73-0e9578166bf0",
   "metadata": {},
   "outputs": [],
   "source": []
  }
 ],
 "metadata": {
  "kernelspec": {
   "display_name": "SageMath 10.7",
   "language": "sage",
   "name": "sagemath-10.7"
  },
  "language_info": {
   "codemirror_mode": {
    "name": "ipython",
    "version": 3
   },
   "file_extension": ".py",
   "mimetype": "text/x-python",
   "name": "python",
   "nbconvert_exporter": "python",
   "pygments_lexer": "ipython3",
   "version": "3.13.3"
  }
 },
 "nbformat": 4,
 "nbformat_minor": 5
}
