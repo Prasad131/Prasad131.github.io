{
 "cells": [
  {
   "cell_type": "code",
   "execution_count": 1,
   "id": "bbb10c2b",
   "metadata": {},
   "outputs": [
    {
     "name": "stderr",
     "output_type": "stream",
     "text": [
      "\n",
      "                    Error: Cannot start MATLAB as no licensing information was found. \n",
      "                    Resolution: Set the environment variable MLM_LICENSE_FILE to provide a network license manager, \n",
      "                    or set MWI_USE_EXISTING_LICENSE to True if the installed MATLAB is already licensed. \n",
      "                    See https://github.com/mathworks/matlab-proxy/blob/main/Advanced-Usage.md for more information.\n",
      "                    To use Online licensing, start a MATLAB Kernel in a Jupyter notebook and login using the web interface \n",
      "                    shown upon execution of any code.\n",
      "                    "
     ]
    }
   ],
   "source": [
    "a=1"
   ]
  },
  {
   "cell_type": "code",
   "execution_count": null,
   "id": "1fde009f",
   "metadata": {},
   "outputs": [],
   "source": []
  }
 ],
 "metadata": {
  "kernelspec": {
   "display_name": "MATLAB Kernel",
   "language": "matlab",
   "name": "jupyter_matlab_kernel"
  },
  "language_info": {
   "file_extension": ".m",
   "mimetype": "text/x-matlab",
   "name": "matlab"
  }
 },
 "nbformat": 4,
 "nbformat_minor": 5
}
