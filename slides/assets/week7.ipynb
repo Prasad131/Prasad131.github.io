{
 "cells": [
  {
   "cell_type": "markdown",
   "id": "6064e08e",
   "metadata": {},
   "source": [
    "# Problem 1"
   ]
  },
  {
   "cell_type": "code",
   "execution_count": 11,
   "id": "9950289e",
   "metadata": {},
   "outputs": [
    {
     "data": {
      "text/plain": [
       "\"/Users/durgaprasadpydi/Documents/deliverables/reviews_and_reports/ta_duty/2025_jul_nov/Prasad131.github.io/slides/assets/problem1_plot.svg\""
      ]
     },
     "metadata": {},
     "output_type": "display_data"
    }
   ],
   "source": [
    "using Plots\n",
    "default(fontfamily=\"-apple-system\")\n",
    "\n",
    "T_in = 20 # degC\n",
    "D = 0.025 # m\n",
    "L = 2 # m\n",
    "m_rate = 10/1000 # kg/s\n",
    "q_flux = 1e3 # W/m^2\n",
    "nu = 1e-6 # m^2/s\n",
    "kappa = 0.6 # W/mK\n",
    "Pr = 7 # no units \n",
    "\n",
    "rho = 1000 # kg/m^3\n",
    "A = 0.25*π*D^2 #m^2\n",
    "\n",
    "u = m_rate/(rho*A) # m/s\n",
    "Re = u*D/nu # no units\n",
    "\n",
    "# Eigen values \n",
    "λn_sqr = [25.6796,83.8618, 174.167,296.536,450.947,637.387, 855.850]\n",
    "Rn = [-0.492597, 0.395508, -0.345872, 0.314047, -0.291252, 0.273808,-0.259852]\n",
    "Cn = [0.403483, -0.175111, 0.105594, -0.732804, 0.0550357, -0.043483, 0.035597]\n",
    "\n",
    "x = collect(0.1:0.01:L)\n",
    "T_wall = zeros(length(x))\n",
    "T_mean = zeros(length(x))\n",
    "for i in eachindex(x)\n",
    "    summation_term = sum(Cn.*Rn.*exp.(-λn_sqr*x[i]/(Re*Pr*0.5*D)))\n",
    "    non_dim_temperature = 8*x[i]/(D*Re*Pr)+1-1/4-7/24+summation_term\n",
    "    T_wall[i] = T_in + non_dim_temperature*q_flux*D/(2*kappa)\n",
    "    T_mean[i] = T_in + (8*x[i]/(Re*Pr*D))*q_flux*D/(2*kappa)\n",
    "end\n",
    "\n",
    "plot(x,[T_wall T_mean],\n",
    "    linewidth = 3,\n",
    "    label=[\"Wall Temperature\" \"Mean Temperature\"],\n",
    "    xlabel = \"Length of the pipe (m)\",\n",
    "    ylabel = \"Temperature (degC)\",\n",
    "    left_margin = [10Plots.mm 0Plots.mm],\n",
    "    bottom_margin = [10Plots.mm 0Plots.mm],\n",
    "    titlefontsize=12,\n",
    "    tickfontsize=12,\n",
    "    labelfontsize=12,\n",
    "    legend_background_color = :transparent,\n",
    "    legend_foreground_color = :transparent)\n",
    "\n",
    "savefig(\"problem1_plot.svg\")"
   ]
  },
  {
   "cell_type": "markdown",
   "id": "1c495742",
   "metadata": {},
   "source": [
    "# Problem 2"
   ]
  },
  {
   "cell_type": "code",
   "execution_count": 12,
   "id": "0f63890b",
   "metadata": {},
   "outputs": [
    {
     "name": "stdout",
     "output_type": "stream",
     "text": [
      "Gz = 250.0\n",
      "Nu_L = 7.705549105121368\n",
      "Δ = -3.210682571104573\n"
     ]
    }
   ],
   "source": [
    "L = 200;\n",
    "D = 1;\n",
    "r0 = D/2;\n",
    "Re = 1000;\n",
    "Pr = 100;\n",
    "\n",
    "Gz = Re*Pr/(L/r0)\n",
    "\n",
    "println(\"Gz = \", Gz)\n",
    "\n",
    "λn = [2.7043644,6.679032,10.67338,14.67108,18.66987];\n",
    "Gn = [0.74879,0.54383,0.46288,0.41518,0.38237];\n",
    "\n",
    "t1 = Gn.*exp.(-λn.^2/Gz);\n",
    "t2 = t1./λn.^2;\n",
    "\n",
    "Nu_L = sum(t1)/(2*sum(t2))\n",
    "\n",
    "println(\"Nu_L = \",Nu_L)\n",
    "\n",
    "Nu_fd = 3.66;\n",
    "Δ = 1-2*Nu_L/Nu_fd\n",
    "\n",
    "println(\"Δ = \",Δ)"
   ]
  },
  {
   "cell_type": "markdown",
   "id": "4f3dc72a",
   "metadata": {},
   "source": [
    "# Problem 5"
   ]
  },
  {
   "cell_type": "code",
   "execution_count": 13,
   "id": "c0e19672",
   "metadata": {},
   "outputs": [
    {
     "name": "stdout",
     "output_type": "stream",
     "text": [
      "Gz = 489.75\n",
      "Nu = 14.28620294420507\n"
     ]
    }
   ],
   "source": [
    "Re=1000;\n",
    "L=2.5; D=0.02; r0=D/2;\n",
    "rho=870; mu=.004; cp=1959; k=0.128;\n",
    "\n",
    "Pr = mu*cp/k;\n",
    "Gz = Re*Pr/(L/D)\n",
    "\n",
    "println(\"Gz = \",Gz)\n",
    "\n",
    "λn_sqr = [25.6796,83.8618, 174.167,296.536,450.947,637.387, 855.850];\n",
    "Rn = [-0.492597, 0.395508, -0.345872, 0.314047, -0.291252, 0.273808,-0.259852];\n",
    "Cn = [0.403483, -0.175111, 0.105594, -0.732804, 0.0550357, -0.043483, 0.035597];\n",
    "\n",
    "t1 = Cn.*Rn.*exp.(-2*λn_sqr/Gz);\n",
    "Nu = 2/(11/24+sum(t1))\n",
    "\n",
    "println(\"Nu = \",Nu)"
   ]
  },
  {
   "cell_type": "markdown",
   "id": "5aeec783",
   "metadata": {},
   "source": [
    "# Problem 6"
   ]
  },
  {
   "cell_type": "code",
   "execution_count": 14,
   "id": "2ea7a523",
   "metadata": {},
   "outputs": [
    {
     "name": "stdout",
     "output_type": "stream",
     "text": [
      "Min. q = 22.3232 W/m^2\n",
      "Exit temperature = 51.36733973370148 degC\n",
      "Re = 932.5200364260096\n",
      "Gz = 5.559923202942914\n"
     ]
    }
   ],
   "source": [
    "Ti = 20;\n",
    "mdot = 0.04/60;\n",
    "D = 0.05;\n",
    "L = 6;\n",
    "rho = 1.2047;\n",
    "mu = 1.8205e-5;\n",
    "cp = 1006.1;\n",
    "k = 0.0256;\n",
    "Pr = mu*cp/k;\n",
    "\n",
    "# Assuming the fully developed flow\n",
    "\n",
    "Nu = 4.36;\n",
    "h = Nu*k/D;\n",
    "q = h*10\n",
    "\n",
    "println(\"Min. q = \",q, \" W/m^2\")\n",
    "\n",
    "T_out = T_in + q*π*D*L/(mdot*cp)\n",
    "\n",
    "println(\"Exit temperature = \", T_out, \" degC\")\n",
    "\n",
    "Re = 4*mdot/(π*D*mu)\n",
    "println(\"Re = \", Re);\n",
    "\n",
    "Gz = Re*Pr*D/L\n",
    "\n",
    "println(\"Gz = \",Gz)\n",
    "\n"
   ]
  },
  {
   "cell_type": "markdown",
   "id": "5aea0fac",
   "metadata": {},
   "source": [
    "# Problem 7"
   ]
  },
  {
   "cell_type": "code",
   "execution_count": 15,
   "id": "597c4ce0",
   "metadata": {},
   "outputs": [
    {
     "data": {
      "text/latex": [
       "$$ \\begin{equation}\n",
       "c2 + c1 y - 4.5 y^{2} Br\n",
       "\\end{equation}\n",
       " $$"
      ],
      "text/plain": [
       "c2 + c1*y - 4.5Br*(y^2)"
      ]
     },
     "metadata": {},
     "output_type": "display_data"
    }
   ],
   "source": [
    "using Symbolics\n",
    "\n",
    "@variables y, θ, Br, c1, c2\n",
    "θ = -4.5*Br*y^2+c1*y+c2"
   ]
  },
  {
   "cell_type": "code",
   "execution_count": 16,
   "id": "7eb66f83",
   "metadata": {},
   "outputs": [],
   "source": [
    "eq1 = substitute(θ,Dict(y=>-1))~0;\n",
    "eq2 = substitute(θ,Dict(y=>1))-1~0;"
   ]
  },
  {
   "cell_type": "code",
   "execution_count": 17,
   "id": "c9fa494d",
   "metadata": {},
   "outputs": [
    {
     "data": {
      "text/plain": [
       "2-element Vector{Any}:\n",
       " 0.5\n",
       "  0.5 + 4.5Br"
      ]
     },
     "metadata": {},
     "output_type": "display_data"
    }
   ],
   "source": [
    "using SymbolicUtils\n",
    "\n",
    "sol = Symbolics.solve_for([eq1,eq2],[c1,c2])"
   ]
  },
  {
   "cell_type": "code",
   "execution_count": 18,
   "id": "30aa52d0",
   "metadata": {},
   "outputs": [
    {
     "data": {
      "text/plain": [
       "2-element Vector{Any}:\n",
       " 0.5\n",
       "  0.5 + 4.5Br"
      ]
     },
     "metadata": {},
     "output_type": "display_data"
    }
   ],
   "source": [
    "sol"
   ]
  },
  {
   "cell_type": "code",
   "execution_count": 19,
   "id": "df870f36",
   "metadata": {},
   "outputs": [
    {
     "data": {
      "text/latex": [
       "$$ \\begin{equation}\n",
       "0.5 + 4.5 Br + 0.5 y - 4.5 y^{2} Br\n",
       "\\end{equation}\n",
       " $$"
      ],
      "text/plain": [
       "0.5 + 4.5Br + 0.5y - 4.5Br*(y^2)"
      ]
     },
     "metadata": {},
     "output_type": "display_data"
    }
   ],
   "source": [
    "substitute(θ, Dict(c1 => sol[1], c2 => sol[2]))"
   ]
  },
  {
   "cell_type": "code",
   "execution_count": 20,
   "id": "0d74176b",
   "metadata": {},
   "outputs": [],
   "source": []
  },
  {
   "cell_type": "markdown",
   "id": "14d4b60e",
   "metadata": {},
   "source": []
  }
 ],
 "metadata": {
  "kernelspec": {
   "display_name": "Julia 1.11.6",
   "language": "julia",
   "name": "julia-1.11"
  },
  "language_info": {
   "file_extension": ".jl",
   "mimetype": "application/julia",
   "name": "julia",
   "version": "1.11.6"
  }
 },
 "nbformat": 4,
 "nbformat_minor": 5
}
