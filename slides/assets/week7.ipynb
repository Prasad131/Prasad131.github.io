{
 "cells": [
  {
   "cell_type": "markdown",
   "id": "6064e08e",
   "metadata": {},
   "source": [
    "# Problem 1"
   ]
  },
  {
   "cell_type": "code",
   "execution_count": 31,
   "id": "f418ed45",
   "metadata": {},
   "outputs": [],
   "source": [
    "import numpy as np\n",
    "import matplotlib.pyplot as plt\n",
    "\n",
    "T_in = 20  # degC\n",
    "D = 0.025  # m\n",
    "L = 2  # m\n",
    "m_rate = 10 / 1000  # kg/s\n",
    "q_flux = 1e3  # W/m^2\n",
    "nu = 1e-6  # m^2/s\n",
    "kappa = 0.6  # W/mK\n",
    "Pr = 7  # no units\n",
    "\n",
    "rho = 1000  # kg/m^3\n",
    "A = 0.25 * np.pi * D**2  # m^2\n",
    "\n",
    "u = m_rate / (rho * A)  # m/s\n",
    "Re = u * D / nu  # no units\n",
    "\n",
    "lambda_n_sqr = np.array([25.6796,83.8618, 174.167,296.536,450.947,637.387, 855.850])\n",
    "Rn = np.array([-0.492597, 0.395508, -0.345872, 0.314047, -0.291252, 0.273808, -0.259852])\n",
    "Cn = np.array([0.403483, -0.175111, 0.105594, -0.732804, 0.0550357, -0.043483, 0.035597])\n",
    "\n",
    "x = np.arange(0.1, L+0.01, 0.01)\n",
    "T_wall = np.zeros_like(x)\n",
    "T_mean = np.zeros_like(x)\n",
    "\n",
    "for i, xi in enumerate(x):\n",
    "    summation_term = np.sum(Cn * Rn * np.exp(-lambda_n_sqr * xi / (Re * Pr * 0.5 * D)))\n",
    "    non_dim_temperature = 8 * xi / (D * Re * Pr) + 1 - 1/4 - 7/24 + summation_term\n",
    "    T_wall[i] = T_in + non_dim_temperature * q_flux * D / (2 * kappa)\n",
    "    T_mean[i] = T_in + (8 * xi / (Re * Pr * D)) * q_flux * D / (2 * kappa)\n",
    "\n",
    "plt.plot(x, T_wall, label=\"Wall Temperature\", linewidth=3)\n",
    "plt.plot(x, T_mean, label=\"Mean Temperature\", linewidth=3)\n",
    "plt.xlabel(\"Length of the pipe (m)\")\n",
    "plt.ylabel(\"Temperature (degC)\")\n",
    "plt.legend()\n",
    "plt.grid()\n",
    "plt.tight_layout()\n",
    "# plt.show()\n",
    "plt.savefig(\"problem1_plot.svg\")\n",
    "plt.close()\n"
   ]
  },
  {
   "cell_type": "code",
   "execution_count": 32,
   "id": "3be039db",
   "metadata": {},
   "outputs": [
    {
     "data": {
      "text/plain": [
       "31.946983533673"
      ]
     },
     "execution_count": 32,
     "metadata": {},
     "output_type": "execute_result"
    }
   ],
   "source": [
    "T_wall[-1]"
   ]
  },
  {
   "cell_type": "markdown",
   "id": "1c495742",
   "metadata": {},
   "source": [
    "# Problem 2"
   ]
  },
  {
   "cell_type": "code",
   "execution_count": 6,
   "id": "0f63890b",
   "metadata": {},
   "outputs": [
    {
     "name": "stdout",
     "output_type": "stream",
     "text": [
      "Gz 250.0\n",
      "Nu_L 7.705549105121368\n",
      "Delta -3.210682571104573\n"
     ]
    }
   ],
   "source": [
    "L = 200\n",
    "D = 1\n",
    "r0 = D / 2\n",
    "Re = 1000\n",
    "Pr = 100\n",
    "\n",
    "Gz = Re * Pr / (L/r0)\n",
    "print('Gz',Gz)\n",
    "lambda_n = np.array([2.7043644,6.679032,10.67338,14.67108,18.66987])\n",
    "Gn = np.array([0.74879,0.54383,0.46288,0.41518,0.38237])\n",
    "\n",
    "t1 = Gn * np.exp(-lambda_n**2 / Gz)\n",
    "t2 = t1 / lambda_n**2\n",
    "Nu_L = np.sum(t1) / (2 * np.sum(t2))\n",
    "print('Nu_L',Nu_L)\n",
    "Nu_fd = 3.66\n",
    "Delta = 1 - 2 * Nu_L / Nu_fd\n",
    "print('Delta',Delta)"
   ]
  },
  {
   "cell_type": "markdown",
   "id": "4f3dc72a",
   "metadata": {},
   "source": [
    "# Problem 5"
   ]
  },
  {
   "cell_type": "code",
   "execution_count": 7,
   "id": "c0e19672",
   "metadata": {},
   "outputs": [
    {
     "name": "stdout",
     "output_type": "stream",
     "text": [
      "Nu 14.28620294420507\n"
     ]
    }
   ],
   "source": [
    "Re = 1000\n",
    "L = 2.5\n",
    "D = 0.02\n",
    "r0 = D / 2\n",
    "rho = 870\n",
    "mu = 0.004\n",
    "cp = 1959\n",
    "k = 0.128\n",
    "\n",
    "Pr = mu * cp / k\n",
    "Gz = Re * Pr / (L / D)\n",
    "\n",
    "lambda_n_sqr = np.array([25.6796, 83.8618, 174.167, 296.536, 450.947, 637.387, 855.850])\n",
    "Rn = np.array([-0.492597, 0.395508, -0.345872, 0.314047, -0.291252, 0.273808, -0.259852])\n",
    "Cn = np.array([0.403483, -0.175111, 0.105594, -0.732804, 0.0550357, -0.043483, 0.035597])\n",
    "\n",
    "t1 = Cn * Rn * np.exp(-2 * lambda_n_sqr / Gz)\n",
    "Nu = 2 / (11/24 + np.sum(t1))\n",
    "print('Nu',Nu)"
   ]
  },
  {
   "cell_type": "markdown",
   "id": "5aeec783",
   "metadata": {},
   "source": [
    "# Problem 6"
   ]
  },
  {
   "cell_type": "code",
   "execution_count": 9,
   "id": "2ea7a523",
   "metadata": {},
   "outputs": [
    {
     "name": "stdout",
     "output_type": "stream",
     "text": [
      "Min. q =  22.3232  W/m^2\n",
      "Exit temperature =  51.36733973370148  degC\n",
      "Re =  932.5200364260096\n",
      "Gz =  5.559923202942914\n"
     ]
    }
   ],
   "source": [
    "Ti = 20;\n",
    "mdot = 0.04/60;\n",
    "D = 0.05;\n",
    "L = 6;\n",
    "rho = 1.2047;\n",
    "mu = 1.8205e-5;\n",
    "cp = 1006.1;\n",
    "k = 0.0256;\n",
    "Pr = mu*cp/k;\n",
    "\n",
    "# Assuming the fully developed flow\n",
    "\n",
    "Nu = 4.36;\n",
    "h = Nu*k/D;\n",
    "q = h*10\n",
    "\n",
    "print(\"Min. q = \",q, \" W/m^2\")\n",
    "\n",
    "T_out = T_in + q*np.pi*D*L/(mdot*cp)\n",
    "\n",
    "print(\"Exit temperature = \", T_out, \" degC\")\n",
    "\n",
    "Re = 4*mdot/(np.pi*D*mu)\n",
    "print(\"Re = \", Re);\n",
    "\n",
    "Gz = Re*Pr*D/L\n",
    "\n",
    "print(\"Gz = \",Gz)\n",
    "\n"
   ]
  },
  {
   "cell_type": "markdown",
   "id": "4786e3f2",
   "metadata": {},
   "source": [
    "# Problem 7"
   ]
  },
  {
   "cell_type": "code",
   "execution_count": 22,
   "id": "d87d7479",
   "metadata": {},
   "outputs": [],
   "source": [
    "def theta(y,Br):\n",
    "    return 0.5+0.75*Br+0.5*y-0.75*Br*y**4"
   ]
  },
  {
   "cell_type": "code",
   "execution_count": 23,
   "id": "6adf29aa",
   "metadata": {},
   "outputs": [],
   "source": [
    "Br = [0,0.1,0.01]\n",
    "t = []\n",
    "y = np.arange(-1,1,0.1)\n",
    "for i in Br:\n",
    "    t.append(theta(y,i))"
   ]
  },
  {
   "cell_type": "code",
   "execution_count": 27,
   "id": "82f5dc2f",
   "metadata": {},
   "outputs": [
    {
     "data": {
      "text/plain": [
       "[<matplotlib.lines.Line2D at 0x12600d9d0>,\n",
       " <matplotlib.lines.Line2D at 0x15750a510>,\n",
       " <matplotlib.lines.Line2D at 0x157522890>]"
      ]
     },
     "execution_count": 27,
     "metadata": {},
     "output_type": "execute_result"
    },
    {
     "data": {
      "image/png": "[encoded data removed]",
      "text/plain": [
       "<Figure size 640x480 with 1 Axes>"
      ]
     },
     "metadata": {},
     "output_type": "display_data"
    }
   ],
   "source": [
    "plt.plot(y,t[0],y,t[1],y,t[2])"
   ]
  },
  {
   "cell_type": "code",
   "execution_count": null,
   "id": "823b7b67",
   "metadata": {},
   "outputs": [],
   "source": []
  }
 ],
 "metadata": {
  "kernelspec": {
   "display_name": "ml-env",
   "language": "python",
   "name": "python3"
  },
  "language_info": {
   "codemirror_mode": {
    "name": "ipython",
    "version": 3
   },
   "file_extension": ".py",
   "mimetype": "text/x-python",
   "name": "python",
   "nbconvert_exporter": "python",
   "pygments_lexer": "ipython3",
   "version": "3.11.3"
  }
 },
 "nbformat": 4,
 "nbformat_minor": 5
}
