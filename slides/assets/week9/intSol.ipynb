{
 "cells": [
  {
   "cell_type": "code",
   "execution_count": 1,
   "id": "8edb1880",
   "metadata": {},
   "outputs": [],
   "source": [
    "%display latex"
   ]
  },
  {
   "cell_type": "code",
   "execution_count": 2,
   "id": "d603c386",
   "metadata": {},
   "outputs": [
    {
     "data": {
      "text/html": [
       "<html>\\(\\displaystyle \\frac{x {\\left(\\frac{x}{\\delta\\left(y\\right)} - 1\\right)}^{2} v_{0}\\left(y\\right)}{\\delta\\left(y\\right)}\\)</html>"
      ],
      "text/latex": [
       "$\\displaystyle \\frac{x {\\left(\\frac{x}{\\delta\\left(y\\right)} - 1\\right)}^{2} v_{0}\\left(y\\right)}{\\delta\\left(y\\right)}$"
      ],
      "text/plain": [
       "x*(x/delta(y) - 1)^2*v_0(y)/delta(y)"
      ]
     },
     "execution_count": 2,
     "metadata": {},
     "output_type": "execute_result"
    }
   ],
   "source": [
    "x,y = var('x y')\n",
    "v0 = function('v_0')(y)\n",
    "delta = function('delta')(y)\n",
    "v = v0*(x/delta)*(1-x/delta)^2\n",
    "v"
   ]
  },
  {
   "cell_type": "code",
   "execution_count": 3,
   "id": "afb3a33b",
   "metadata": {},
   "outputs": [
    {
     "data": {
      "text/html": [
       "<html>\\(\\displaystyle -{\\left(T_{0} - T_{w}\\right)} {\\left(\\frac{x}{\\delta\\left(y\\right)} - 1\\right)}^{2} + T_{0}\\)</html>"
      ],
      "text/latex": [
       "$\\displaystyle -{\\left(T_{0} - T_{w}\\right)} {\\left(\\frac{x}{\\delta\\left(y\\right)} - 1\\right)}^{2} + T_{0}$"
      ],
      "text/plain": [
       "-(T_0 - T_w)*(x/delta(y) - 1)^2 + T_0"
      ]
     },
     "execution_count": 3,
     "metadata": {},
     "output_type": "execute_result"
    }
   ],
   "source": [
    "T0,Tw = var('T_0 T_w')\n",
    "T = T0 + (Tw-T0)*(1-x/delta)^2\n",
    "T"
   ]
  },
  {
   "cell_type": "code",
   "execution_count": 4,
   "id": "c97370df",
   "metadata": {},
   "outputs": [],
   "source": [
    "g,beta,nu,alpha = var('g beta nu alpha')"
   ]
  },
  {
   "cell_type": "code",
   "execution_count": 5,
   "id": "1281d2df",
   "metadata": {},
   "outputs": [
    {
     "data": {
      "text/html": [
       "<html>\\(\\displaystyle \\frac{1}{105} \\, v_{0}\\left(y\\right)^{2} \\frac{\\partial}{\\partial y}\\delta\\left(y\\right) + \\frac{2}{105} \\, \\delta\\left(y\\right) v_{0}\\left(y\\right) \\frac{\\partial}{\\partial y}v_{0}\\left(y\\right) = -\\frac{1}{3} \\, {\\left(T_{0} - T_{w}\\right)} \\beta g \\delta\\left(y\\right) - \\frac{\\nu v_{0}\\left(y\\right)}{\\delta\\left(y\\right)}\\)</html>"
      ],
      "text/latex": [
       "$\\displaystyle \\frac{1}{105} \\, v_{0}\\left(y\\right)^{2} \\frac{\\partial}{\\partial y}\\delta\\left(y\\right) + \\frac{2}{105} \\, \\delta\\left(y\\right) v_{0}\\left(y\\right) \\frac{\\partial}{\\partial y}v_{0}\\left(y\\right) = -\\frac{1}{3} \\, {\\left(T_{0} - T_{w}\\right)} \\beta g \\delta\\left(y\\right) - \\frac{\\nu v_{0}\\left(y\\right)}{\\delta\\left(y\\right)}$"
      ],
      "text/plain": [
       "1/105*v_0(y)^2*diff(delta(y), y) + 2/105*delta(y)*v_0(y)*diff(v_0(y), y) == -1/3*(T_0 - T_w)*beta*g*delta(y) - nu*v_0(y)/delta(y)"
      ]
     },
     "execution_count": 5,
     "metadata": {},
     "output_type": "execute_result"
    }
   ],
   "source": [
    "momInt = diff(integral(v^2,x,0,delta),y) == -nu*diff(v,x).subs(x=0) + integral(g*beta*(T-T0),x,0,delta)\n",
    "momInt"
   ]
  },
  {
   "cell_type": "code",
   "execution_count": 6,
   "id": "560f6a73",
   "metadata": {},
   "outputs": [
    {
     "data": {
      "text/html": [
       "<html>\\(\\displaystyle -\\frac{1}{30} \\, {\\left(T_{0} - T_{w}\\right)} v_{0}\\left(y\\right) \\frac{\\partial}{\\partial y}\\delta\\left(y\\right) - \\frac{1}{30} \\, {\\left(T_{0} - T_{w}\\right)} \\delta\\left(y\\right) \\frac{\\partial}{\\partial y}v_{0}\\left(y\\right) = -\\frac{2 \\, {\\left(T_{0} - T_{w}\\right)} \\alpha}{\\delta\\left(y\\right)}\\)</html>"
      ],
      "text/latex": [
       "$\\displaystyle -\\frac{1}{30} \\, {\\left(T_{0} - T_{w}\\right)} v_{0}\\left(y\\right) \\frac{\\partial}{\\partial y}\\delta\\left(y\\right) - \\frac{1}{30} \\, {\\left(T_{0} - T_{w}\\right)} \\delta\\left(y\\right) \\frac{\\partial}{\\partial y}v_{0}\\left(y\\right) = -\\frac{2 \\, {\\left(T_{0} - T_{w}\\right)} \\alpha}{\\delta\\left(y\\right)}$"
      ],
      "text/plain": [
       "-1/30*(T_0 - T_w)*v_0(y)*diff(delta(y), y) - 1/30*(T_0 - T_w)*delta(y)*diff(v_0(y), y) == -2*(T_0 - T_w)*alpha/delta(y)"
      ]
     },
     "execution_count": 6,
     "metadata": {},
     "output_type": "execute_result"
    }
   ],
   "source": [
    "egyInt = diff(integral(v*(T-T0),x,0,delta),y)==-alpha*diff(T,x).subs(x=0)\n",
    "egyInt"
   ]
  },
  {
   "cell_type": "code",
   "execution_count": 7,
   "id": "e61a321d",
   "metadata": {},
   "outputs": [],
   "source": [
    "m,n = var('m n')\n",
    "A,B = var('A B')\n",
    "vS, deltaS = A*y^m, B*y^n"
   ]
  },
  {
   "cell_type": "code",
   "execution_count": 8,
   "id": "78ebe8d7",
   "metadata": {},
   "outputs": [
    {
     "data": {
      "text/html": [
       "<html>\\(\\displaystyle \\frac{2}{105} \\, A^{2} B m y^{2 \\, m + n - 1} + \\frac{1}{105} \\, A^{2} B n y^{2 \\, m + n - 1} = -\\frac{1}{3} \\, B {\\left(T_{0} - T_{w}\\right)} \\beta g y^{n} - \\frac{A \\nu y^{m - n}}{B}\\)</html>"
      ],
      "text/latex": [
       "$\\displaystyle \\frac{2}{105} \\, A^{2} B m y^{2 \\, m + n - 1} + \\frac{1}{105} \\, A^{2} B n y^{2 \\, m + n - 1} = -\\frac{1}{3} \\, B {\\left(T_{0} - T_{w}\\right)} \\beta g y^{n} - \\frac{A \\nu y^{m - n}}{B}$"
      ],
      "text/plain": [
       "2/105*A^2*B*m*y^(2*m + n - 1) + 1/105*A^2*B*n*y^(2*m + n - 1) == -1/3*B*(T_0 - T_w)*beta*g*y^n - A*nu*y^(m - n)/B"
      ]
     },
     "metadata": {},
     "output_type": "display_data"
    },
    {
     "data": {
      "text/html": [
       "<html>\\(\\displaystyle -\\frac{1}{30} \\, A B {\\left(T_{0} - T_{w}\\right)} m y^{m + n - 1} - \\frac{1}{30} \\, A B {\\left(T_{0} - T_{w}\\right)} n y^{m + n - 1} = -\\frac{2 \\, {\\left(T_{0} - T_{w}\\right)} \\alpha}{B y^{n}}\\)</html>"
      ],
      "text/latex": [
       "$\\displaystyle -\\frac{1}{30} \\, A B {\\left(T_{0} - T_{w}\\right)} m y^{m + n - 1} - \\frac{1}{30} \\, A B {\\left(T_{0} - T_{w}\\right)} n y^{m + n - 1} = -\\frac{2 \\, {\\left(T_{0} - T_{w}\\right)} \\alpha}{B y^{n}}$"
      ],
      "text/plain": [
       "-1/30*A*B*(T_0 - T_w)*m*y^(m + n - 1) - 1/30*A*B*(T_0 - T_w)*n*y^(m + n - 1) == -2*(T_0 - T_w)*alpha/(B*y^n)"
      ]
     },
     "metadata": {},
     "output_type": "display_data"
    }
   ],
   "source": [
    "rules = {\n",
    "    v0:vS,\n",
    "    diff(v0,y): diff(vS,y),\n",
    "    delta:deltaS,\n",
    "    diff(delta,y): diff(deltaS,y)\n",
    "}\n",
    "eq1 = momInt.subs(rules).simplify()\n",
    "eq2 = egyInt.subs(rules).simplify()\n",
    "show(eq1)\n",
    "show(eq2)"
   ]
  },
  {
   "cell_type": "code",
   "execution_count": 9,
   "id": "a2a7756d",
   "metadata": {},
   "outputs": [
    {
     "data": {
      "text/html": [
       "<html>\\(\\displaystyle \\left[\\left\\{m : \\frac{1}{2}, n : \\frac{1}{4}\\right\\}\\right]\\)</html>"
      ],
      "text/latex": [
       "$\\displaystyle \\left[\\left\\{m : \\frac{1}{2}, n : \\frac{1}{4}\\right\\}\\right]$"
      ],
      "text/plain": [
       "[{m: 1/2, n: 1/4}]"
      ]
     },
     "execution_count": 9,
     "metadata": {},
     "output_type": "execute_result"
    }
   ],
   "source": [
    "mnSol = solve([2*m+n-1==n, n==m-n, m+n-1==-n],m,n,solution_dict=True)\n",
    "mnSol"
   ]
  },
  {
   "cell_type": "code",
   "execution_count": 10,
   "id": "1a00c8cb",
   "metadata": {},
   "outputs": [],
   "source": [
    "mSol,nSol = 1/2,1/4"
   ]
  },
  {
   "cell_type": "code",
   "execution_count": 11,
   "id": "c953e560",
   "metadata": {},
   "outputs": [
    {
     "data": {
      "text/html": [
       "<html>\\(\\displaystyle \\frac{1}{84} \\, A^{2} B y^{\\frac{1}{4}} = -\\frac{1}{3} \\, B {\\left(T_{0} - T_{w}\\right)} \\beta g y^{\\frac{1}{4}} - \\frac{A \\nu y^{\\frac{1}{4}}}{B}\\)</html>"
      ],
      "text/latex": [
       "$\\displaystyle \\frac{1}{84} \\, A^{2} B y^{\\frac{1}{4}} = -\\frac{1}{3} \\, B {\\left(T_{0} - T_{w}\\right)} \\beta g y^{\\frac{1}{4}} - \\frac{A \\nu y^{\\frac{1}{4}}}{B}$"
      ],
      "text/plain": [
       "1/84*A^2*B*y^(1/4) == -1/3*B*(T_0 - T_w)*beta*g*y^(1/4) - A*nu*y^(1/4)/B"
      ]
     },
     "execution_count": 11,
     "metadata": {},
     "output_type": "execute_result"
    }
   ],
   "source": [
    "ABeq1 = eq1.subs(mnSol[0])\n",
    "ABeq1"
   ]
  },
  {
   "cell_type": "code",
   "execution_count": 12,
   "id": "2c5a9684",
   "metadata": {},
   "outputs": [
    {
     "data": {
      "text/html": [
       "<html>\\(\\displaystyle -\\frac{A B {\\left(T_{0} - T_{w}\\right)}}{40 \\, y^{\\frac{1}{4}}} = -\\frac{2 \\, {\\left(T_{0} - T_{w}\\right)} \\alpha}{B y^{\\frac{1}{4}}}\\)</html>"
      ],
      "text/latex": [
       "$\\displaystyle -\\frac{A B {\\left(T_{0} - T_{w}\\right)}}{40 \\, y^{\\frac{1}{4}}} = -\\frac{2 \\, {\\left(T_{0} - T_{w}\\right)} \\alpha}{B y^{\\frac{1}{4}}}$"
      ],
      "text/plain": [
       "-1/40*A*B*(T_0 - T_w)/y^(1/4) == -2*(T_0 - T_w)*alpha/(B*y^(1/4))"
      ]
     },
     "execution_count": 12,
     "metadata": {},
     "output_type": "execute_result"
    }
   ],
   "source": [
    "ABeq2 = eq2.subs(mnSol[0])\n",
    "ABeq2"
   ]
  },
  {
   "cell_type": "code",
   "execution_count": 13,
   "id": "2eab5d52",
   "metadata": {},
   "outputs": [
    {
     "data": {
      "text/html": [
       "<html>\\(\\displaystyle \\frac{28 \\, \\sqrt{\\frac{5}{7}} \\alpha}{\\sqrt{-\\frac{20 \\, \\alpha^{2} + 21 \\, \\alpha \\nu}{{\\left(T_{0} - T_{w}\\right)} \\beta g}}}\\)</html>"
      ],
      "text/latex": [
       "$\\displaystyle \\frac{28 \\, \\sqrt{\\frac{5}{7}} \\alpha}{\\sqrt{-\\frac{20 \\, \\alpha^{2} + 21 \\, \\alpha \\nu}{{\\left(T_{0} - T_{w}\\right)} \\beta g}}}$"
      ],
      "text/plain": [
       "28*sqrt(5/7)*alpha/sqrt(-(20*alpha^2 + 21*alpha*nu)/((T_0 - T_w)*beta*g))"
      ]
     },
     "metadata": {},
     "output_type": "display_data"
    },
    {
     "data": {
      "text/html": [
       "<html>\\(\\displaystyle -2 \\, \\left(\\frac{5}{7}\\right)^{\\frac{1}{4}} \\left(-\\frac{20 \\, \\alpha^{2} + 21 \\, \\alpha \\nu}{{\\left(T_{0} - T_{w}\\right)} \\beta g}\\right)^{\\frac{1}{4}}\\)</html>"
      ],
      "text/latex": [
       "$\\displaystyle -2 \\, \\left(\\frac{5}{7}\\right)^{\\frac{1}{4}} \\left(-\\frac{20 \\, \\alpha^{2} + 21 \\, \\alpha \\nu}{{\\left(T_{0} - T_{w}\\right)} \\beta g}\\right)^{\\frac{1}{4}}$"
      ],
      "text/plain": [
       "-2*(5/7)^(1/4)*(-(20*alpha^2 + 21*alpha*nu)/((T_0 - T_w)*beta*g))^(1/4)"
      ]
     },
     "metadata": {},
     "output_type": "display_data"
    }
   ],
   "source": [
    "ABsol = solve([ABeq1,ABeq2],A,B,solution_dict=True)[1]\n",
    "Asol = ABsol[A]\n",
    "Bsol = ABsol[B]\n",
    "show(Asol)\n",
    "show(Bsol)"
   ]
  },
  {
   "cell_type": "code",
   "execution_count": 14,
   "id": "8053d79c",
   "metadata": {},
   "outputs": [],
   "source": [
    "kappa = var('kappa')"
   ]
  },
  {
   "cell_type": "code",
   "execution_count": 15,
   "id": "d9ceb845",
   "metadata": {},
   "outputs": [
    {
     "data": {
      "text/html": [
       "<html>\\(\\displaystyle \\frac{7 \\, \\left(\\frac{5}{7}\\right)^{\\frac{3}{4}} \\kappa}{5 \\, y^{\\frac{1}{4}} \\left(-\\frac{20 \\, \\alpha^{2} + 21 \\, \\alpha \\nu}{{\\left(T_{0} - T_{w}\\right)} \\beta g}\\right)^{\\frac{1}{4}}}\\)</html>"
      ],
      "text/latex": [
       "$\\displaystyle \\frac{7 \\, \\left(\\frac{5}{7}\\right)^{\\frac{3}{4}} \\kappa}{5 \\, y^{\\frac{1}{4}} \\left(-\\frac{20 \\, \\alpha^{2} + 21 \\, \\alpha \\nu}{{\\left(T_{0} - T_{w}\\right)} \\beta g}\\right)^{\\frac{1}{4}}}$"
      ],
      "text/plain": [
       "7/5*(5/7)^(3/4)*kappa/(y^(1/4)*(-(20*alpha^2 + 21*alpha*nu)/((T_0 - T_w)*beta*g))^(1/4))"
      ]
     },
     "execution_count": 15,
     "metadata": {},
     "output_type": "execute_result"
    }
   ],
   "source": [
    "h = -2*kappa/(Bsol*y^nSol)\n",
    "h"
   ]
  },
  {
   "cell_type": "code",
   "execution_count": 16,
   "id": "97de72c9",
   "metadata": {},
   "outputs": [
    {
     "data": {
      "text/html": [
       "<html>\\(\\displaystyle \\frac{7 \\, \\left(\\frac{5}{7}\\right)^{\\frac{3}{4}} y^{\\frac{3}{4}}}{5 \\, \\left(-\\frac{20 \\, \\alpha^{2} + 21 \\, \\alpha \\nu}{{\\left(T_{0} - T_{w}\\right)} \\beta g}\\right)^{\\frac{1}{4}}}\\)</html>"
      ],
      "text/latex": [
       "$\\displaystyle \\frac{7 \\, \\left(\\frac{5}{7}\\right)^{\\frac{3}{4}} y^{\\frac{3}{4}}}{5 \\, \\left(-\\frac{20 \\, \\alpha^{2} + 21 \\, \\alpha \\nu}{{\\left(T_{0} - T_{w}\\right)} \\beta g}\\right)^{\\frac{1}{4}}}$"
      ],
      "text/plain": [
       "7/5*(5/7)^(3/4)*y^(3/4)/(-(20*alpha^2 + 21*alpha*nu)/((T_0 - T_w)*beta*g))^(1/4)"
      ]
     },
     "execution_count": 16,
     "metadata": {},
     "output_type": "execute_result"
    }
   ],
   "source": [
    "Nu = h*y/kappa\n",
    "Nu"
   ]
  },
  {
   "cell_type": "code",
   "execution_count": 21,
   "id": "1ff77556",
   "metadata": {},
   "outputs": [],
   "source": [
    "def convert_numeric(term):\n",
    "    if term.is_rational() or term.is_real():\n",
    "        return term.n()\n",
    "    else:\n",
    "        return term "
   ]
  },
  {
   "cell_type": "code",
   "execution_count": 22,
   "id": "929ff8fb",
   "metadata": {},
   "outputs": [
    {
     "ename": "AttributeError",
     "evalue": "'sage.symbolic.expression.Expression' object has no attribute 'map'",
     "output_type": "error",
     "traceback": [
      "\u001b[0;31m---------------------------------------------------------------------------\u001b[0m",
      "\u001b[0;31mAttributeError\u001b[0m                            Traceback (most recent call last)",
      "Cell \u001b[0;32mIn[22], line 2\u001b[0m\n\u001b[1;32m      1\u001b[0m Ra,Pr \u001b[38;5;241m=\u001b[39m var(\u001b[38;5;124m'\u001b[39m\u001b[38;5;124mRa Pr\u001b[39m\u001b[38;5;124m'\u001b[39m)\n\u001b[0;32m----> 2\u001b[0m \u001b[43mNu\u001b[49m\u001b[38;5;241;43m.\u001b[39;49m\u001b[43msubs\u001b[49m\u001b[43m(\u001b[49m\u001b[43mg\u001b[49m\u001b[38;5;241;43m=\u001b[39;49m\u001b[43mRa\u001b[49m\u001b[38;5;241;43m*\u001b[39;49m\u001b[43mnu\u001b[49m\u001b[38;5;241;43m*\u001b[39;49m\u001b[43malpha\u001b[49m\u001b[38;5;241;43m/\u001b[39;49m\u001b[43m(\u001b[49m\u001b[43mbeta\u001b[49m\u001b[38;5;241;43m*\u001b[39;49m\u001b[43m(\u001b[49m\u001b[43mTw\u001b[49m\u001b[38;5;241;43m-\u001b[39;49m\u001b[43mT0\u001b[49m\u001b[43m)\u001b[49m\u001b[38;5;241;43m*\u001b[39;49m\u001b[43my\u001b[49m\u001b[38;5;241;43m*\u001b[39;49m\u001b[38;5;241;43m*\u001b[39;49m\u001b[43mInteger\u001b[49m\u001b[43m(\u001b[49m\u001b[38;5;241;43m3\u001b[39;49m\u001b[43m)\u001b[49m\u001b[43m)\u001b[49m\u001b[43m)\u001b[49m\u001b[38;5;241;43m.\u001b[39;49m\u001b[43msubs\u001b[49m\u001b[43m(\u001b[49m\u001b[43mnu\u001b[49m\u001b[38;5;241;43m=\u001b[39;49m\u001b[43mPr\u001b[49m\u001b[38;5;241;43m*\u001b[39;49m\u001b[43malpha\u001b[49m\u001b[43m)\u001b[49m\u001b[38;5;241;43m.\u001b[39;49m\u001b[43mfull_simplify\u001b[49m\u001b[43m(\u001b[49m\u001b[43m)\u001b[49m\u001b[38;5;241;43m.\u001b[39;49m\u001b[43mmap\u001b[49m(convert_numeric)\n",
      "File \u001b[0;32m~/miniconda3/envs/sage/lib/python3.12/site-packages/sage/structure/element.pyx:495\u001b[0m, in \u001b[0;36msage.structure.element.Element.__getattr__ (build/cythonized/sage/structure/element.c:13068)\u001b[0;34m()\u001b[0m\n\u001b[1;32m    493\u001b[0m         AttributeError: 'LeftZeroSemigroup_with_category.element_class' object has no attribute 'blah_blah'...\n\u001b[1;32m    494\u001b[0m     \"\"\"\n\u001b[0;32m--> 495\u001b[0m     return self.getattr_from_category(name)\n\u001b[1;32m    496\u001b[0m \n\u001b[1;32m    497\u001b[0m cdef getattr_from_category(self, name):\n",
      "File \u001b[0;32m~/miniconda3/envs/sage/lib/python3.12/site-packages/sage/structure/element.pyx:508\u001b[0m, in \u001b[0;36msage.structure.element.Element.getattr_from_category (build/cythonized/sage/structure/element.c:13178)\u001b[0;34m()\u001b[0m\n\u001b[1;32m    506\u001b[0m     else:\n\u001b[1;32m    507\u001b[0m         cls = P._abstract_element_class\n\u001b[0;32m--> 508\u001b[0m     return getattr_from_other_class(self, cls, name)\n\u001b[1;32m    509\u001b[0m \n\u001b[1;32m    510\u001b[0m def __dir__(self):\n",
      "File \u001b[0;32m~/miniconda3/envs/sage/lib/python3.12/site-packages/sage/cpython/getattr.pyx:363\u001b[0m, in \u001b[0;36msage.cpython.getattr.getattr_from_other_class (build/cythonized/sage/cpython/getattr.c:4677)\u001b[0;34m()\u001b[0m\n\u001b[1;32m    361\u001b[0m     dummy_error_message.cls = type(self)\n\u001b[1;32m    362\u001b[0m     dummy_error_message.name = name\n\u001b[0;32m--> 363\u001b[0m     raise AttributeError(dummy_error_message)\n\u001b[1;32m    364\u001b[0m attribute = <object>attr\n\u001b[1;32m    365\u001b[0m # Check for a descriptor (__get__ in Python)\n",
      "\u001b[0;31mAttributeError\u001b[0m: 'sage.symbolic.expression.Expression' object has no attribute 'map'"
     ]
    }
   ],
   "source": [
    "Ra,Pr = var('Ra Pr')\n",
    "Nu.subs(g=Ra*nu*alpha/(beta*(Tw-T0)*y^3)).subs(nu=Pr*alpha).full_simplify().map(convert_numeric)"
   ]
  },
  {
   "cell_type": "code",
   "execution_count": null,
   "id": "b261c01d",
   "metadata": {},
   "outputs": [],
   "source": []
  }
 ],
 "metadata": {
  "kernelspec": {
   "display_name": "SageMath 10.7",
   "language": "sage",
   "name": "sagemath"
  },
  "language_info": {
   "codemirror_mode": {
    "name": "ipython",
    "version": 3
   },
   "file_extension": ".py",
   "mimetype": "text/x-python",
   "name": "python",
   "nbconvert_exporter": "python",
   "pygments_lexer": "ipython3",
   "version": "3.12.11"
  }
 },
 "nbformat": 4,
 "nbformat_minor": 5
}
