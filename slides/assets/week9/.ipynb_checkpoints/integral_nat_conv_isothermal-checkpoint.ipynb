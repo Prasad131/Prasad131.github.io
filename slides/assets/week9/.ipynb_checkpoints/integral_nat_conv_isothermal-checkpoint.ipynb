{
 "cells": [
  {
   "cell_type": "code",
   "execution_count": 2,
   "id": "124fff69-2453-4ea3-aca1-cb23e5a68e8e",
   "metadata": {},
   "outputs": [],
   "source": [
    "from sage.all import *"
   ]
  },
  {
   "cell_type": "code",
   "execution_count": 3,
   "id": "b07d0543",
   "metadata": {},
   "outputs": [],
   "source": [
    "# variable declarations\n",
    "x = var('x')\n",
    "a0,a1,a2,a3 = var('a0 a1 a2 a3')\n",
    "g,beta,Tw,T0,nu = var('g beta Tw T0 nu')\n",
    "delta = var('delta')"
   ]
  },
  {
   "cell_type": "code",
   "execution_count": 4,
   "id": "19be38d6-49b7-457f-93aa-a51b45c28b62",
   "metadata": {},
   "outputs": [
    {
     "data": {
      "text/plain": [
       "a3*x^3 + a2*x^2 + a1*x + a0"
      ]
     },
     "execution_count": 4,
     "metadata": {},
     "output_type": "execute_result"
    }
   ],
   "source": [
    "v = a0+a1*x+a2*x**2+a3*x**3\n",
    "v"
   ]
  },
  {
   "cell_type": "code",
   "execution_count": 5,
   "id": "aaff1f7b-fe1d-46c1-b808-63c962c5066d",
   "metadata": {},
   "outputs": [],
   "source": [
    "bcs = [\n",
    "    v.subs(x=0) == 0,\n",
    "    diff(v,x,2).subs(x=0) == -g*beta*(Tw-T0)/nu ,\n",
    "    v.subs(x=delta) == 0,\n",
    "    diff(v,x).subs(x=delta)==0\n",
    "]"
   ]
  },
  {
   "cell_type": "code",
   "execution_count": 6,
   "id": "87124b63-f982-42ff-ad93-94445e406212",
   "metadata": {},
   "outputs": [
    {
     "data": {
      "text/plain": [
       "{a0: 0,\n",
       " a1: -1/4*(T0*delta - Tw*delta)*beta*g/nu,\n",
       " a2: 1/2*(T0 - Tw)*beta*g/nu,\n",
       " a3: -1/4*(T0 - Tw)*beta*g/(delta*nu)}"
      ]
     },
     "execution_count": 6,
     "metadata": {},
     "output_type": "execute_result"
    }
   ],
   "source": [
    "sol = solve(bcs,a0,a1,a2,a3,solution_dict=True)[0]\n",
    "sol"
   ]
  },
  {
   "cell_type": "code",
   "execution_count": 7,
   "id": "e85731f9-37c1-47e6-b169-8b29429870a8",
   "metadata": {},
   "outputs": [
    {
     "data": {
      "text/plain": [
       "1/2*(T0 - Tw)*beta*g*x^2/nu - 1/4*(T0 - Tw)*beta*g*x^3/(delta*nu) - 1/4*(T0*delta - Tw*delta)*beta*g*x/nu"
      ]
     },
     "execution_count": 7,
     "metadata": {},
     "output_type": "execute_result"
    }
   ],
   "source": [
    "vSol = v.subs(sol)\n",
    "vSol"
   ]
  },
  {
   "cell_type": "code",
   "execution_count": 8,
   "id": "1a16a663-1097-41bf-aa91-92a725c3ff4a",
   "metadata": {},
   "outputs": [],
   "source": [
    "v0 = g*beta*(Tw-T0)*delta**2/(4*nu)"
   ]
  },
  {
   "cell_type": "code",
   "execution_count": 9,
   "id": "20dad37e-4eac-4860-ae12-cafe02fd24dc",
   "metadata": {},
   "outputs": [
    {
     "data": {
      "text/plain": [
       "(delta^2*x - 2*delta*x^2 + x^3)/delta^3"
      ]
     },
     "execution_count": 9,
     "metadata": {},
     "output_type": "execute_result"
    }
   ],
   "source": [
    "V = (vSol/v0).simplify_full()\n",
    "V"
   ]
  },
  {
   "cell_type": "code",
   "execution_count": 10,
   "id": "97225270-7555-4038-8277-e9238aa7e35b",
   "metadata": {},
   "outputs": [
    {
     "data": {
      "text/plain": [
       "[x == 1/3*delta, x == delta]"
      ]
     },
     "execution_count": 10,
     "metadata": {},
     "output_type": "execute_result"
    }
   ],
   "source": [
    "# determine the maximum velocity\n",
    "solve(diff(V,x)==0,x)"
   ]
  },
  {
   "cell_type": "code",
   "execution_count": 11,
   "id": "8a117d27-7b16-4820-b323-da39591ac727",
   "metadata": {},
   "outputs": [
    {
     "data": {
      "text/plain": [
       "-2/delta^2"
      ]
     },
     "execution_count": 11,
     "metadata": {},
     "output_type": "execute_result"
    }
   ],
   "source": [
    "diff(V,x,2).subs(x=delta/3)"
   ]
  },
  {
   "cell_type": "code",
   "execution_count": 12,
   "id": "fc4ccb43-cb33-4977-a2a5-ec5dbedb00e0",
   "metadata": {},
   "outputs": [
    {
     "data": {
      "text/plain": [
       "2/delta^2"
      ]
     },
     "execution_count": 12,
     "metadata": {},
     "output_type": "execute_result"
    }
   ],
   "source": [
    "diff(V,x,2).subs(x=delta)"
   ]
  },
  {
   "cell_type": "code",
   "execution_count": 13,
   "id": "bfc46e53-d863-49c4-b31b-7c70b770bf95",
   "metadata": {},
   "outputs": [
    {
     "data": {
      "text/plain": [
       "4/27"
      ]
     },
     "execution_count": 13,
     "metadata": {},
     "output_type": "execute_result"
    }
   ],
   "source": [
    "VMax = V.subs(x=delta/3)\n",
    "VMax"
   ]
  },
  {
   "cell_type": "markdown",
   "id": "55c8f803-228b-4790-95e5-f830ec3c3cc9",
   "metadata": {},
   "source": [
    "Temperature Distribution"
   ]
  },
  {
   "cell_type": "code",
   "execution_count": 14,
   "id": "4ff374c4-2139-4522-9b98-fe6bdb225fa6",
   "metadata": {},
   "outputs": [],
   "source": [
    "b0,b1,b2 = var('b0 b1 b2')\n",
    "T = b0 + b1*x + b2*x**2"
   ]
  },
  {
   "cell_type": "code",
   "execution_count": 15,
   "id": "e94dbe92-5e93-43c4-ace1-10b0bc7dd72f",
   "metadata": {},
   "outputs": [],
   "source": [
    "sol = solve([T.subs(x=0)==Tw, T.subs(x=delta)==T0,diff(T,x).subs(x=delta)==0],b0,b1,b2,solution_dict=True)\n",
    "TSol = T.subs(sol)"
   ]
  },
  {
   "cell_type": "code",
   "execution_count": 16,
   "id": "afc216e1-ab2e-416d-976b-b30b874269b4",
   "metadata": {},
   "outputs": [
    {
     "data": {
      "text/plain": [
       "Tw + 2*(T0 - Tw)*x/delta - (T0 - Tw)*x^2/delta^2"
      ]
     },
     "execution_count": 16,
     "metadata": {},
     "output_type": "execute_result"
    }
   ],
   "source": [
    "TSol"
   ]
  },
  {
   "cell_type": "code",
   "execution_count": 17,
   "id": "7ea05937-e842-4eb3-b6bf-e2081c7e0d62",
   "metadata": {},
   "outputs": [
    {
     "data": {
      "text/plain": [
       "(delta^2 - 2*delta*x + x^2)/delta^2"
      ]
     },
     "execution_count": 17,
     "metadata": {},
     "output_type": "execute_result"
    }
   ],
   "source": [
    "theta = (TSol-T0)/(Tw-T0)\n",
    "theta = theta.simplify_full()\n",
    "theta"
   ]
  },
  {
   "cell_type": "markdown",
   "id": "d2ea3dd2",
   "metadata": {},
   "source": [
    "# Integral Solution"
   ]
  },
  {
   "cell_type": "code",
   "execution_count": null,
   "id": "8193cf18-3eee-4c4f-ac73-0e9578166bf0",
   "metadata": {},
   "outputs": [],
   "source": []
  }
 ],
 "metadata": {
  "kernelspec": {
   "display_name": "Python 3 (ipykernel)",
   "language": "python",
   "name": "python3"
  },
  "language_info": {
   "codemirror_mode": {
    "name": "ipython",
    "version": 3
   },
   "file_extension": ".py",
   "mimetype": "text/x-python",
   "name": "python",
   "nbconvert_exporter": "python",
   "pygments_lexer": "ipython3",
   "version": "3.13.3"
  }
 },
 "nbformat": 4,
 "nbformat_minor": 5
}
