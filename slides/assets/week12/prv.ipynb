{
 "cells": [
  {
   "cell_type": "code",
   "execution_count": 1,
   "id": "bc392eb2",
   "metadata": {},
   "outputs": [],
   "source": [
    "Tsat = 150; \n",
    "g = 9.81; σ=0.0488;\n",
    "μₗ=1.81e-04; ρₗ=917.07; cₚₗ=4310; Prₗ=1.14; \n",
    "hfg=2113.67e03; \n",
    "ρᵥ=2.548; Cₛ=0.0128; n=1;\n",
    "Tw=160;"
   ]
  },
  {
   "cell_type": "code",
   "execution_count": 2,
   "id": "f0fabfe3",
   "metadata": {},
   "outputs": [
    {
     "data": {
      "text/plain": [
       "447623.8590842517"
      ]
     },
     "metadata": {},
     "output_type": "display_data"
    }
   ],
   "source": [
    "qw = μₗ*hfg*(g*(ρₗ-ρᵥ)/σ)^0.5*(cₚₗ*(Tw-Tsat)/(Cₛ*hfg*Prₗ^n))^3"
   ]
  },
  {
   "cell_type": "code",
   "execution_count": 3,
   "id": "16e6a761",
   "metadata": {},
   "outputs": [
    {
     "data": {
      "text/plain": [
       "2.2995555769920177e6"
      ]
     },
     "metadata": {},
     "output_type": "display_data"
    }
   ],
   "source": [
    "q_max = 0.149*hfg*ρᵥ*(σ*g*(ρₗ-ρᵥ)/ρᵥ^2)^0.25"
   ]
  },
  {
   "cell_type": "code",
   "execution_count": 4,
   "id": "5da8b5b9",
   "metadata": {},
   "outputs": [
    {
     "data": {
      "text/plain": [
       "0.1946566821706373"
      ]
     },
     "metadata": {},
     "output_type": "display_data"
    }
   ],
   "source": [
    "qw/q_max"
   ]
  },
  {
   "cell_type": "code",
   "execution_count": null,
   "id": "263640c3",
   "metadata": {},
   "outputs": [],
   "source": []
  }
 ],
 "metadata": {
  "kernelspec": {
   "display_name": "Julia 1.10.5",
   "language": "julia",
   "name": "julia-1.10"
  },
  "language_info": {
   "file_extension": ".jl",
   "mimetype": "application/julia",
   "name": "julia",
   "version": "1.10.5"
  }
 },
 "nbformat": 4,
 "nbformat_minor": 5
}
