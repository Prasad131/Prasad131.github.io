{
 "cells": [
  {
   "cell_type": "code",
   "execution_count": 19,
   "id": "1809feff",
   "metadata": {},
   "outputs": [],
   "source": [
    "import pandas as pd\n",
    "import numpy as np \n",
    "import matplotlib.pyplot as plt "
   ]
  },
  {
   "cell_type": "code",
   "execution_count": 22,
   "id": "80a20781",
   "metadata": {},
   "outputs": [],
   "source": [
    "# loading property values \n",
    "air_props = pd.read_csv('air_props.csv')\n",
    "air_props.columns = ['t','rho','cp','k','beta','mu','nu','alpha','Pr']\n",
    "air_props.t = air_props.t+273.15\n",
    "air_props.beta = air_props.beta*1e-3\n",
    "air_props.mu = air_props.mu*1e-5 \n",
    "air_props.nu = air_props.nu*1e-6 \n",
    "air_props.alpha = air_props.alpha*1e-6"
   ]
  },
  {
   "cell_type": "markdown",
   "id": "6ab1637b",
   "metadata": {},
   "source": [
    "# Problem 1 \n",
    "\n",
    "A vertical wall of an oven is 60 cm long and is covered with a metal sheet maintained at 170°C. Air temperature inside the oven is 90°C and the pressure is atmospheric. Calculate the local heat-transfer coefficient at the end of the wall and the average heat transfer coefficient over the wall. "
   ]
  },
  {
   "cell_type": "code",
   "execution_count": 23,
   "id": "bd45f042",
   "metadata": {},
   "outputs": [],
   "source": [
    "L = 0.6\n",
    "T_wall = 170+273.15\n",
    "T_infty = 90+273.15"
   ]
  },
  {
   "cell_type": "code",
   "execution_count": null,
   "id": "62a92424",
   "metadata": {},
   "outputs": [],
   "source": [
    "T_film = 0.5*(T_wall+T_infty)\n"
   ]
  }
 ],
 "metadata": {
  "kernelspec": {
   "display_name": "ml-env",
   "language": "python",
   "name": "python3"
  },
  "language_info": {
   "codemirror_mode": {
    "name": "ipython",
    "version": 3
   },
   "file_extension": ".py",
   "mimetype": "text/x-python",
   "name": "python",
   "nbconvert_exporter": "python",
   "pygments_lexer": "ipython3",
   "version": "3.11.3"
  }
 },
 "nbformat": 4,
 "nbformat_minor": 5
}
